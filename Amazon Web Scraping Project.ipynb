{
 "cells": [
  {
   "cell_type": "code",
   "execution_count": 1,
   "id": "a8351bff-fb20-4114-81a0-29201f0c7f96",
   "metadata": {},
   "outputs": [],
   "source": [
    "# import libraries\n",
    "\n",
    "from bs4 import BeautifulSoup\n",
    "import requests\n",
    "import time\n",
    "import datetime\n",
    "\n",
    "import smtplib"
   ]
  },
  {
   "cell_type": "code",
   "execution_count": 3,
   "id": "c68fa85e-c339-478d-a7af-769638edf9bf",
   "metadata": {},
   "outputs": [
    {
     "name": "stdout",
     "output_type": "stream",
     "text": [
      "ComicSense.xyz Unisex One Piece Anime Oversized T Shirts for Men and Women, 180 GSM Joy Boy Printed Tie Dye Anime Gear 5 Luffy Tshirt\n",
      "Price: 1,999\n"
     ]
    }
   ],
   "source": [
    "# Connect to Website and pull in data\n",
    "\n",
    "URL = 'https://www.amazon.in/ComicSense-xyz-Unisex-Oversized-Shirts-Printed/dp/B0CR6PH6V7/ref=sr_1_50?crid=3E2MIJUDDSME4&dib=eyJ2IjoiMSJ9.kRh07MsyDrFlMLHPWf2GY9Z25CD3su2NoFRORJi_pfdtAmeZz6slQ_mg_YjFM_AQrKn2FdqB5tq70pxGlhdoSg7xc6qvHEWBUz4xR-dgtEwnO4S6E8kApt5PUhkB0T9zN3xwvcIzZKuspQo2FS3XsD9C6HDlFFSN7HiJt6OhehR7Nk4Sirtn1VABOfAxiipGj-CiJTctgxzoLYik9mkOjUC-203d-6KnK83_6eaL-dD0s9kbp5jbADLIWdbmDPRJyNzPG9bO-nFgrI2YKyy2phnqtDxHaU9DI-iGs1GYwAE.SfiMAW-1PwiJMxwATlnQK85blOtRGlIeafVhyi0MXoc&dib_tag=se&keywords=anime+tshirt&qid=1732787657&sprefix=anime+tshirt%2Caps%2C290&sr=8-50'\n",
    "\n",
    "headers = {\"User-Agent\": \"Mozilla/5.0 (Windows NT 10.0; Win64; x64) AppleWebKit/537.36 (KHTML, like Gecko) Chrome/131.0.0.0 Safari/537.36\", \"Accept-Encoding\":\"gzip, deflate\", \"Accept\":\"text/html,application/xhtml+xml,application/xml;q=0.9,*/*;q=0.8\", \"DNT\":\"1\",\"Connection\":\"close\", \"Upgrade-Insecure-Requests\":\"1\"}\n",
    "\n",
    "page = requests.get(URL, headers=headers)\n",
    "\n",
    "soup1 = BeautifulSoup(page.content, \"html.parser\")\n",
    "\n",
    "soup2 = BeautifulSoup(soup1.prettify(), \"html.parser\")\n",
    "\n",
    "title = soup2.find(id='productTitle').get_text()\n",
    "\n",
    "price = soup2.find(class_=\"a-price-whole\")\n",
    "\n",
    "title = title.strip()\n",
    "print(title.strip())\n",
    "if price:\n",
    "    price = price.get_text().strip()\n",
    "    print(f\"Price: {price}\")\n",
    "else:\n",
    "    print(\"Price not found.\")\n"
   ]
  },
  {
   "cell_type": "code",
   "execution_count": 5,
   "id": "d47a8c87-6c5a-4a0e-b54d-cae8ea3c7d30",
   "metadata": {},
   "outputs": [
    {
     "name": "stdout",
     "output_type": "stream",
     "text": [
      "2024-12-02\n"
     ]
    }
   ],
   "source": [
    "import datetime\n",
    "today = datetime.date.today()\n",
    "\n",
    "print(today)"
   ]
  },
  {
   "cell_type": "code",
   "execution_count": 7,
   "id": "85832a7e-c3ab-4608-a186-594ffef6d946",
   "metadata": {},
   "outputs": [],
   "source": [
    "import csv\n",
    "\n",
    "header = ['Title','Price','Date']\n",
    "data = [title, price, today]\n",
    "\n",
    "with open('AmazonWebScraperDataset.csv', 'w', newline='', encoding='UTF8') as f:\n",
    "    writer = csv.writer(f)\n",
    "    writer.writerow(header)\n",
    "    writer.writerow(data)\n"
   ]
  },
  {
   "cell_type": "code",
   "execution_count": 9,
   "id": "f47874d5-27f3-4e20-b370-37a038aeb334",
   "metadata": {},
   "outputs": [
    {
     "name": "stdout",
     "output_type": "stream",
     "text": [
      "                                               Title  Price        Date\n",
      "0  ComicSense.xyz Unisex One Piece Anime Oversize...  1,999  2024-12-02\n"
     ]
    }
   ],
   "source": [
    "import pandas as pd\n",
    "\n",
    "df = pd.read_csv(r'C:\\Users\\aksku\\AmazonWebScraperDataset.csv')\n",
    "\n",
    "print(df)"
   ]
  },
  {
   "cell_type": "code",
   "execution_count": 11,
   "id": "327c59e5-89db-4905-a2e3-429df91e47cc",
   "metadata": {},
   "outputs": [],
   "source": [
    "# Now we are appending data to the csv\n",
    "\n",
    "with open('AmazonWebScraperDataset.csv', 'a+', newline='', encoding='UTF8') as f:\n",
    "    writer = csv.writer(f)\n",
    "    writer.writerow(data)"
   ]
  },
  {
   "cell_type": "code",
   "execution_count": 13,
   "id": "b8d7581c-212a-4104-892c-bd4d236249ef",
   "metadata": {},
   "outputs": [],
   "source": [
    "def check_price():\n",
    "    URL = 'https://www.amazon.in/ComicSense-xyz-Unisex-Oversized-Shirts-Printed/dp/B0CR6PH6V7/ref=sr_1_50?crid=3E2MIJUDDSME4&dib=eyJ2IjoiMSJ9.kRh07MsyDrFlMLHPWf2GY9Z25CD3su2NoFRORJi_pfdtAmeZz6slQ_mg_YjFM_AQrKn2FdqB5tq70pxGlhdoSg7xc6qvHEWBUz4xR-dgtEwnO4S6E8kApt5PUhkB0T9zN3xwvcIzZKuspQo2FS3XsD9C6HDlFFSN7HiJt6OhehR7Nk4Sirtn1VABOfAxiipGj-CiJTctgxzoLYik9mkOjUC-203d-6KnK83_6eaL-dD0s9kbp5jbADLIWdbmDPRJyNzPG9bO-nFgrI2YKyy2phnqtDxHaU9DI-iGs1GYwAE.SfiMAW-1PwiJMxwATlnQK85blOtRGlIeafVhyi0MXoc&dib_tag=se&keywords=anime+tshirt&qid=1732787657&sprefix=anime+tshirt%2Caps%2C290&sr=8-50'\n",
    "    \n",
    "    headers = {\"User-Agent\": \"Mozilla/5.0 (Windows NT 10.0; Win64; x64) AppleWebKit/537.36 (KHTML, like Gecko) Chrome/131.0.0.0 Safari/537.36\", \"Accept-Encoding\":\"gzip, deflate\", \"Accept\":\"text/html,application/xhtml+xml,application/xml;q=0.9,*/*;q=0.8\", \"DNT\":\"1\",\"Connection\":\"close\", \"Upgrade-Insecure-Requests\":\"1\"}\n",
    "    \n",
    "    page = requests.get(URL, headers=headers)\n",
    "    \n",
    "    soup1 = BeautifulSoup(page.content, \"html.parser\")\n",
    "    \n",
    "    soup2 = BeautifulSoup(soup1.prettify(), \"html.parser\")\n",
    "    \n",
    "    title = soup2.find(id='productTitle').get_text()\n",
    "    \n",
    "    price = soup2.find(class_=\"a-price-whole\")\n",
    "    \n",
    "    title = title.strip()\n",
    "    print(title.strip())\n",
    "    if price:\n",
    "        price = price.get_text().strip()\n",
    "        print(f\"Price: {price}\")\n",
    "    else:\n",
    "        print(\"Price not found.\")\n",
    "    \n",
    "    import datetime\n",
    "    \n",
    "    today = datetime.date.today()\n",
    "    \n",
    "    import csv\n",
    "    \n",
    "    header = ['Title','Price','Date']\n",
    "    data = [title, price, today]\n",
    "    \n",
    "    with open('AmazonWebScraperDataset.csv', 'a+', newline='', encoding='UTF8') as f:\n",
    "        writer = csv.writer(f)\n",
    "        writer.writerow(data)"
   ]
  },
  {
   "cell_type": "code",
   "execution_count": 15,
   "id": "eda34ce6-536a-4990-ba55-b71114925e61",
   "metadata": {},
   "outputs": [
    {
     "name": "stdout",
     "output_type": "stream",
     "text": [
      "ComicSense.xyz Unisex One Piece Anime Oversized T Shirts for Men and Women, 180 GSM Joy Boy Printed Tie Dye Anime Gear 5 Luffy Tshirt\n",
      "Price: 1,999\n",
      "ComicSense.xyz Unisex One Piece Anime Oversized T Shirts for Men and Women, 180 GSM Joy Boy Printed Tie Dye Anime Gear 5 Luffy Tshirt\n",
      "Price: 1,999\n"
     ]
    },
    {
     "ename": "KeyboardInterrupt",
     "evalue": "",
     "output_type": "error",
     "traceback": [
      "\u001b[1;31m---------------------------------------------------------------------------\u001b[0m",
      "\u001b[1;31mKeyboardInterrupt\u001b[0m                         Traceback (most recent call last)",
      "Cell \u001b[1;32mIn[15], line 3\u001b[0m\n\u001b[0;32m      1\u001b[0m \u001b[38;5;28;01mwhile\u001b[39;00m(\u001b[38;5;28;01mTrue\u001b[39;00m):\n\u001b[0;32m      2\u001b[0m     check_price()\n\u001b[1;32m----> 3\u001b[0m     time\u001b[38;5;241m.\u001b[39msleep(\u001b[38;5;241m5\u001b[39m)\n",
      "\u001b[1;31mKeyboardInterrupt\u001b[0m: "
     ]
    }
   ],
   "source": [
    "# Price updates every day\n",
    "\n",
    "while(True):\n",
    "    check_price()\n",
    "    time.sleep(86400)"
   ]
  },
  {
   "cell_type": "code",
   "execution_count": 17,
   "id": "014bf36c-3d9b-4761-ba2d-c27b5ff7e1a8",
   "metadata": {},
   "outputs": [
    {
     "name": "stdout",
     "output_type": "stream",
     "text": [
      "                                               Title  Price        Date\n",
      "0  ComicSense.xyz Unisex One Piece Anime Oversize...  1,999  2024-12-02\n",
      "1  ComicSense.xyz Unisex One Piece Anime Oversize...  1,999  2024-12-02\n",
      "2  ComicSense.xyz Unisex One Piece Anime Oversize...  1,999  2024-12-02\n",
      "3  ComicSense.xyz Unisex One Piece Anime Oversize...  1,999  2024-12-02\n"
     ]
    }
   ],
   "source": [
    "import pandas as pd\n",
    "\n",
    "df = pd.read_csv(r'C:\\Users\\aksku\\AmazonWebScraperDataset.csv')\n",
    "\n",
    "print(df)"
   ]
  },
  {
   "cell_type": "code",
   "execution_count": null,
   "id": "22f7857c-54a5-4bc3-a68f-8d60a616efeb",
   "metadata": {},
   "outputs": [],
   "source": []
  }
 ],
 "metadata": {
  "kernelspec": {
   "display_name": "Python 3 (ipykernel)",
   "language": "python",
   "name": "python3"
  },
  "language_info": {
   "codemirror_mode": {
    "name": "ipython",
    "version": 3
   },
   "file_extension": ".py",
   "mimetype": "text/x-python",
   "name": "python",
   "nbconvert_exporter": "python",
   "pygments_lexer": "ipython3",
   "version": "3.12.7"
  }
 },
 "nbformat": 4,
 "nbformat_minor": 5
}
